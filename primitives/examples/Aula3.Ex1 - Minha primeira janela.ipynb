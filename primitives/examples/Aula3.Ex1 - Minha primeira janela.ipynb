{
 "cells": [
  {
   "cell_type": "markdown",
   "metadata": {},
   "source": [
    "# Aula3.Ex1 - Minha primeira janela\n",
    "\n",
    "Neste exemplo, utilizaremos a biblioteca GLFW para construir nossa primeira janela.\n",
    "\n",
    "Esta janela será capaz de processar instruções OpenGL."
   ]
  },
  {
   "cell_type": "markdown",
   "metadata": {},
   "source": [
    "### Primeiramente, instalamos as dependências necessárias."
   ]
  },
  {
   "cell_type": "code",
   "execution_count": 46,
   "metadata": {},
   "outputs": [
    {
     "name": "stdout",
     "output_type": "stream",
     "text": [
      "\u001b[33mDEPRECATION: Python 2.7 reached the end of its life on January 1st, 2020. Please upgrade your Python as Python 2.7 is no longer maintained. pip 21.0 will drop support for Python 2.7 in January 2021. More details about Python 2 support in pip can be found at https://pip.pypa.io/en/latest/development/release-process/#python-2-support pip 21.0 will remove support for this functionality.\u001b[0m\n",
      "Defaulting to user installation because normal site-packages is not writeable\n",
      "Requirement already satisfied: pyopengl in /home/gui-soares/.local/lib/python2.7/site-packages (3.1.5)\n",
      "\u001b[33mDEPRECATION: Python 2.7 reached the end of its life on January 1st, 2020. Please upgrade your Python as Python 2.7 is no longer maintained. pip 21.0 will drop support for Python 2.7 in January 2021. More details about Python 2 support in pip can be found at https://pip.pypa.io/en/latest/development/release-process/#python-2-support pip 21.0 will remove support for this functionality.\u001b[0m\n",
      "Defaulting to user installation because normal site-packages is not writeable\n",
      "Requirement already satisfied: glfw in /home/gui-soares/.local/lib/python2.7/site-packages (2.1.0)\n"
     ]
    }
   ],
   "source": [
    "!pip install pyopengl\n",
    "!pip install glfw"
   ]
  },
  {
   "cell_type": "markdown",
   "metadata": {},
   "source": [
    "### Depois, importamos as bibliotecas."
   ]
  },
  {
   "cell_type": "code",
   "execution_count": 47,
   "metadata": {},
   "outputs": [],
   "source": [
    "import glfw\n",
    "from OpenGL.GL import *\n",
    "import OpenGL.GL.shaders\n",
    "import numpy as np"
   ]
  },
  {
   "cell_type": "markdown",
   "metadata": {},
   "source": [
    "### Inicializando o sistema de janela GLFW"
   ]
  },
  {
   "cell_type": "code",
   "execution_count": 48,
   "metadata": {},
   "outputs": [
    {
     "data": {
      "text/plain": [
       "1"
      ]
     },
     "execution_count": 48,
     "metadata": {},
     "output_type": "execute_result"
    }
   ],
   "source": [
    "glfw.init()"
   ]
  },
  {
   "cell_type": "markdown",
   "metadata": {},
   "source": [
    "### Criando a primeira janela.\n",
    "* Linha 1: indica que a janela será criada mas NÃO será exibida imediatamente.\n",
    "* Linha 2: cria a janela com tamanho (width e height) e título da janela. Outros parâmetros definem se a janela será exibida em modo full (tela inteira) e controles de monitor.\n",
    "* Linha 3: a janela que criamos se a principal no momento (contexto).\n",
    "\n",
    "Mais detalhes: https://www.glfw.org/docs/latest/window_guide.html"
   ]
  },
  {
   "cell_type": "code",
   "execution_count": 49,
   "metadata": {},
   "outputs": [],
   "source": [
    "glfw.window_hint(glfw.VISIBLE, glfw.FALSE)\n",
    "window = glfw.create_window(720, 600, \"Minha Primeira Janela\", None, None)\n",
    "glfw.make_context_current(window)"
   ]
  },
  {
   "cell_type": "markdown",
   "metadata": {},
   "source": [
    "### Função para capturar eventos de teclado.\n",
    "Em determinado momento será interessante tomar decisões com base em entrada do teclado. A função (key_event) é genérica e apenas imprime no terminal quais teclas estão sendo pressionadas."
   ]
  },
  {
   "cell_type": "code",
   "execution_count": 50,
   "metadata": {},
   "outputs": [],
   "source": [
    "def key_event(window,key,scancode,action,mods):\n",
    "    print('[key event] key=',key)\n",
    "    print('[key event] scancode=',scancode)\n",
    "    print('[key event] action=',action)\n",
    "    print('[key event] mods=',mods)\n",
    "    print('-------')\n",
    "    \n",
    "glfw.set_key_callback(window,key_event)"
   ]
  },
  {
   "cell_type": "markdown",
   "metadata": {},
   "source": [
    "### Função para capturar eventos de mouse.\n",
    "Cliques do mouse também serão importantes. A função (mouse_event) apenas exibe qual botão do mouse foi pressionado. De forma análoga, também é possível coletar eventos de coordenadas do ponteiro/cursor do mouse.\n",
    "\n",
    "Mais detalhes: https://www.glfw.org/docs/3.3.2/input_guide.html"
   ]
  },
  {
   "cell_type": "code",
   "execution_count": 51,
   "metadata": {},
   "outputs": [],
   "source": [
    "def mouse_event(window,button,action,mods):\n",
    "    print('[mouse event] button=',button)\n",
    "    print('[mouse event] action=',action)\n",
    "    print('[mouse event] mods=',mods)\n",
    "    print('-------')\n",
    "glfw.set_mouse_button_callback(window,mouse_event)"
   ]
  },
  {
   "cell_type": "markdown",
   "metadata": {},
   "source": [
    "### Nesse momento, exibimos a janela."
   ]
  },
  {
   "cell_type": "code",
   "execution_count": 52,
   "metadata": {},
   "outputs": [],
   "source": [
    "glfw.show_window(window)"
   ]
  },
  {
   "cell_type": "markdown",
   "metadata": {},
   "source": [
    "### Loop principal da janela.\n",
    "Enquanto a janela não for fechada, esse laço será executado. É neste espaço que trabalhamos com algumas interações com a OpenGL."
   ]
  },
  {
   "cell_type": "code",
   "execution_count": 53,
   "metadata": {
    "scrolled": true
   },
   "outputs": [],
   "source": [
    "R = 0.2\n",
    "G = 1.0\n",
    "B = 0.5\n",
    "\n",
    "import numpy as np\n",
    "\n",
    "while not glfw.window_should_close(window):\n",
    "\n",
    "    \n",
    "    # funcao interna do glfw para gerenciar eventos de mouse, teclado, etc\n",
    "    glfw.poll_events() \n",
    "\n",
    "    # limpa a cor de fundo da janela e preenche com outra no sistema RGBA\n",
    "    glClear(GL_COLOR_BUFFER_BIT)\n",
    "    \n",
    "    # definindo a cor da janela      \n",
    "    glClearColor(R, G, B, 1.0)\n",
    "\n",
    "    # gerencia troca de dados entre janela e o OpenGL\n",
    "    glfw.swap_buffers(window)\n",
    "    \n",
    "    R = 0.5*R + 0.5*np.random.randint(10)/10\n",
    "    G = 0.5*G + 0.5*np.random.randint(10)/10\n",
    "    B = 0.5*B + 0.5*np.random.randint(10)/10\n"
   ]
  },
  {
   "cell_type": "markdown",
   "metadata": {},
   "source": [
    "### Finalizamos o sistema de janela GLFW\n",
    "O sistema é finalizado assim que a janela é fechada e/ou o laço acima é interrompido."
   ]
  },
  {
   "cell_type": "code",
   "execution_count": 54,
   "metadata": {},
   "outputs": [],
   "source": [
    "glfw.terminate()"
   ]
  },
  {
   "cell_type": "markdown",
   "metadata": {},
   "source": [
    "# Exercício\n",
    "\n",
    "Modifique esse código para que a janela mude de cor dinamicamente, em cada iteração do laço principal.\n",
    "\n",
    "Dica: incrementar +0.01 as componentes R, G e B até atingir 1.0. Em seguida, faça o processo inverso (-0.01)."
   ]
  }
 ],
 "metadata": {
  "kernelspec": {
   "display_name": "Python 3",
   "language": "python",
   "name": "python3"
  },
  "language_info": {
   "codemirror_mode": {
    "name": "ipython",
    "version": 3
   },
   "file_extension": ".py",
   "mimetype": "text/x-python",
   "name": "python",
   "nbconvert_exporter": "python",
   "pygments_lexer": "ipython3",
   "version": "3.8.8"
  }
 },
 "nbformat": 4,
 "nbformat_minor": 2
}
